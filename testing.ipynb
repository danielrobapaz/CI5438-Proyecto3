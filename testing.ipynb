{
 "cells": [
  {
   "cell_type": "code",
   "execution_count": 1,
   "metadata": {},
   "outputs": [],
   "source": [
    "import numpy as np\n",
    "import pandas as pd\n",
    "from K_Means import K_Means\n",
    "import warnings\n",
    "import seaborn as sns\n",
    "import matplotlib.pyplot as plt\n",
    "from PIL import Image\n",
    "warnings.filterwarnings('ignore')"
   ]
  },
  {
   "cell_type": "markdown",
   "metadata": {},
   "source": [
    "# Iris\n"
   ]
  },
  {
   "cell_type": "code",
   "execution_count": null,
   "metadata": {},
   "outputs": [],
   "source": [
    "iris = pd.read_csv('datasets/iris.csv')\n",
    "iris_no_species = pd.read_csv('datasets/iris_no_species.csv')"
   ]
  },
  {
   "cell_type": "code",
   "execution_count": null,
   "metadata": {},
   "outputs": [],
   "source": [
    "def normalize_df(df: pd.DataFrame, columns: [str]) -> pd.DataFrame:\n",
    "    for c in columns:\n",
    "        min_value = df[c].min()\n",
    "        max_value = df[c].max()\n",
    "\n",
    "        df[c] = (df[c] - min_value)/(max_value - min_value)\n",
    "    return df"
   ]
  },
  {
   "cell_type": "code",
   "execution_count": null,
   "metadata": {},
   "outputs": [],
   "source": [
    "iris_no_species = normalize_df(iris_no_species, iris_no_species.columns)"
   ]
  },
  {
   "cell_type": "code",
   "execution_count": null,
   "metadata": {},
   "outputs": [],
   "source": [
    "sns.pairplot(iris[sorted(iris.columns)], hue='species')\n",
    "plt.show()"
   ]
  },
  {
   "cell_type": "code",
   "execution_count": null,
   "metadata": {},
   "outputs": [],
   "source": [
    "kmeans = K_Means(iris_no_species, 3)\n",
    "kmeans.train(1000)\n",
    "sns.pairplot(kmeans.get_data(), hue='centroid_number', palette=sns.color_palette(\"tab10\"))\n",
    "plt.show()"
   ]
  },
  {
   "cell_type": "markdown",
   "metadata": {},
   "source": [
    "# Segmentacion de colores"
   ]
  },
  {
   "cell_type": "code",
   "execution_count": 3,
   "metadata": {},
   "outputs": [],
   "source": [
    "def reducing_colors(route: str, max_iter: int = 20, k: int=1):\n",
    "    image_dir = route\n",
    "    img = Image.open(image_dir)\n",
    "    new_img = Image.open(image_dir)\n",
    "    img = img.convert('RGB')\n",
    "    width, height = img.size\n",
    "    pixel_map = img.load()\n",
    "    pixel_list = []\n",
    "    for w in range(width):\n",
    "        for h in range(height):\n",
    "            pixel_list.append(list(pixel_map[w, h]))\n",
    "\n",
    "    pixel_df = pd.DataFrame(data={'rgb': pixel_list})\n",
    "    pixel_df['1r'] = pixel_df['rgb'].apply(lambda c: c[0])\n",
    "    pixel_df['2g'] = pixel_df['rgb'].apply(lambda c: c[1])\n",
    "    pixel_df['3b'] = pixel_df['rgb'].apply(lambda c: c[2])\n",
    "    pixel_df.drop(columns=['rgb'], inplace=True)\n",
    "    pixel_df = pixel_df[sorted(pixel_df.columns)]\n",
    "\n",
    "    kmeans = K_Means(pixel_df, k)\n",
    "    kmeans.train(max_iter)\n",
    "    res = kmeans.get_data_with_new_category()\n",
    "\n",
    "    new_map = res['centroid_value'].tolist()\n",
    "\n",
    "    cur_color = 0\n",
    "    for w in range(width):\n",
    "        for h in range(height):\n",
    "            (r,g,b) = new_map[cur_color]\n",
    "            cur_color += 1\n",
    "            new_img.putpixel((w, h), value=(r, g, b))        \n",
    "    new_img.save(f\"{route}_k={k}_max_iter={max_iter}.png\")"
   ]
  },
  {
   "cell_type": "code",
   "execution_count": 24,
   "metadata": {},
   "outputs": [
    {
     "name": "stdout",
     "output_type": "stream",
     "text": [
      "Convergence reached in 30 iterations\n"
     ]
    }
   ],
   "source": [
    "reducing_colors('img/super_mario_bros_1.jpg', max_iter=30, k=8)"
   ]
  },
  {
   "cell_type": "code",
   "execution_count": 25,
   "metadata": {},
   "outputs": [
    {
     "name": "stdout",
     "output_type": "stream",
     "text": [
      "Convergence reached in 30 iterations\n"
     ]
    }
   ],
   "source": [
    "reducing_colors('img/super_mario_bros_1.jpg', max_iter=30, k=16)"
   ]
  },
  {
   "cell_type": "code",
   "execution_count": 26,
   "metadata": {},
   "outputs": [
    {
     "name": "stdout",
     "output_type": "stream",
     "text": [
      "Convergence reached in 30 iterations\n"
     ]
    }
   ],
   "source": [
    "reducing_colors('img/super_mario_bros_1.jpg', max_iter=30, k=32)"
   ]
  },
  {
   "cell_type": "code",
   "execution_count": 4,
   "metadata": {},
   "outputs": [
    {
     "name": "stdout",
     "output_type": "stream",
     "text": [
      "Convergence reached in 30 iterations\n",
      "hola\n"
     ]
    }
   ],
   "source": [
    "reducing_colors('img/super_mario_bros_1.jpg', max_iter=30, k=64)"
   ]
  }
 ],
 "metadata": {
  "kernelspec": {
   "display_name": ".venv",
   "language": "python",
   "name": "python3"
  },
  "language_info": {
   "codemirror_mode": {
    "name": "ipython",
    "version": 3
   },
   "file_extension": ".py",
   "mimetype": "text/x-python",
   "name": "python",
   "nbconvert_exporter": "python",
   "pygments_lexer": "ipython3",
   "version": "3.11.4"
  }
 },
 "nbformat": 4,
 "nbformat_minor": 2
}
